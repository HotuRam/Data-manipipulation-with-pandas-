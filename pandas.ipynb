{
 "cells": [
  {
   "cell_type": "code",
   "execution_count": 17,
   "source": [
    "!pip install -r requirements.Txt "
   ],
   "outputs": [
    {
     "output_type": "stream",
     "name": "stdout",
     "text": [
      "Requirement already satisfied: Pandas in c:\\users\\my-pc\\anaconda3\\envs\\credit\\lib\\site-packages (from -r requirements.Txt (line 1)) (1.3.2)\n",
      "Requirement already satisfied: Numpy in c:\\users\\my-pc\\anaconda3\\envs\\credit\\lib\\site-packages (from -r requirements.Txt (line 2)) (1.19.5)\n",
      "Requirement already satisfied: Matplotlib in c:\\users\\my-pc\\anaconda3\\envs\\credit\\lib\\site-packages (from -r requirements.Txt (line 3)) (3.4.3)\n",
      "Requirement already satisfied: scikit-learn in c:\\users\\my-pc\\anaconda3\\envs\\credit\\lib\\site-packages (from -r requirements.Txt (line 4)) (0.20.3)\n",
      "Requirement already satisfied: kiwisolver>=1.0.1 in c:\\users\\my-pc\\anaconda3\\envs\\credit\\lib\\site-packages (from Matplotlib->-r requirements.Txt (line 3)) (1.3.2)\n",
      "Requirement already satisfied: pillow>=6.2.0 in c:\\users\\my-pc\\anaconda3\\envs\\credit\\lib\\site-packages (from Matplotlib->-r requirements.Txt (line 3)) (8.3.1)\n",
      "Requirement already satisfied: cycler>=0.10 in c:\\users\\my-pc\\anaconda3\\envs\\credit\\lib\\site-packages (from Matplotlib->-r requirements.Txt (line 3)) (0.10.0)\n",
      "Requirement already satisfied: python-dateutil>=2.7 in c:\\users\\my-pc\\anaconda3\\envs\\credit\\lib\\site-packages (from Matplotlib->-r requirements.Txt (line 3)) (2.8.2)\n",
      "Requirement already satisfied: pyparsing>=2.2.1 in c:\\users\\my-pc\\anaconda3\\envs\\credit\\lib\\site-packages (from Matplotlib->-r requirements.Txt (line 3)) (2.4.7)\n",
      "Requirement already satisfied: six in c:\\users\\my-pc\\anaconda3\\envs\\credit\\lib\\site-packages (from cycler>=0.10->Matplotlib->-r requirements.Txt (line 3)) (1.15.0)\n",
      "Requirement already satisfied: pytz>=2017.3 in c:\\users\\my-pc\\anaconda3\\envs\\credit\\lib\\site-packages (from Pandas->-r requirements.Txt (line 1)) (2021.1)\n",
      "Requirement already satisfied: scipy>=0.13.3 in c:\\users\\my-pc\\anaconda3\\envs\\credit\\lib\\site-packages (from scikit-learn->-r requirements.Txt (line 4)) (1.7.1)\n"
     ]
    }
   ],
   "metadata": {}
  },
  {
   "cell_type": "code",
   "execution_count": 18,
   "source": [
    "import pandas as pd\r\n",
    "import numpy as np\r\n",
    "import matplotlib as plt\r\n"
   ],
   "outputs": [],
   "metadata": {}
  },
  {
   "cell_type": "markdown",
   "source": [
    "## Learning Pandas "
   ],
   "metadata": {}
  },
  {
   "cell_type": "code",
   "execution_count": 48,
   "source": [
    "data=pd.Series([1,3,5,7])\r\n",
    "data"
   ],
   "outputs": [
    {
     "output_type": "execute_result",
     "data": {
      "text/plain": [
       "0    1\n",
       "1    3\n",
       "2    5\n",
       "3    7\n",
       "dtype: int64"
      ]
     },
     "metadata": {},
     "execution_count": 48
    }
   ],
   "metadata": {}
  },
  {
   "cell_type": "code",
   "execution_count": 49,
   "source": [
    "data.values"
   ],
   "outputs": [
    {
     "output_type": "execute_result",
     "data": {
      "text/plain": [
       "array([1, 3, 5, 7], dtype=int64)"
      ]
     },
     "metadata": {},
     "execution_count": 49
    }
   ],
   "metadata": {}
  },
  {
   "cell_type": "code",
   "execution_count": 50,
   "source": [
    "data.index"
   ],
   "outputs": [
    {
     "output_type": "execute_result",
     "data": {
      "text/plain": [
       "RangeIndex(start=0, stop=4, step=1)"
      ]
     },
     "metadata": {},
     "execution_count": 50
    }
   ],
   "metadata": {}
  },
  {
   "cell_type": "code",
   "execution_count": 51,
   "source": [
    "data[1]"
   ],
   "outputs": [
    {
     "output_type": "execute_result",
     "data": {
      "text/plain": [
       "3"
      ]
     },
     "metadata": {},
     "execution_count": 51
    }
   ],
   "metadata": {}
  },
  {
   "cell_type": "code",
   "execution_count": 52,
   "source": [
    "data[1:3]"
   ],
   "outputs": [
    {
     "output_type": "execute_result",
     "data": {
      "text/plain": [
       "1    3\n",
       "2    5\n",
       "dtype: int64"
      ]
     },
     "metadata": {},
     "execution_count": 52
    }
   ],
   "metadata": {}
  },
  {
   "cell_type": "code",
   "execution_count": null,
   "source": [],
   "outputs": [],
   "metadata": {}
  }
 ],
 "metadata": {
  "orig_nbformat": 4,
  "language_info": {
   "name": "python",
   "version": "3.7.11",
   "mimetype": "text/x-python",
   "codemirror_mode": {
    "name": "ipython",
    "version": 3
   },
   "pygments_lexer": "ipython3",
   "nbconvert_exporter": "python",
   "file_extension": ".py"
  },
  "kernelspec": {
   "name": "python3",
   "display_name": "Python 3.7.11 64-bit ('credit': conda)"
  },
  "interpreter": {
   "hash": "3f2cce15f9523cc617e64d766c0d361895395c2a3bc5a1750d152f120ce34420"
  }
 },
 "nbformat": 4,
 "nbformat_minor": 2
}